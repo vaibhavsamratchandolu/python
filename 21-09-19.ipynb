{
 "cells": [
  {
   "cell_type": "code",
   "execution_count": 2,
   "metadata": {},
   "outputs": [
    {
     "name": "stdout",
     "output_type": "stream",
     "text": [
      "<_io.TextIOWrapper name='./files/sample.txt' mode='r' encoding='cp1252'>\n"
     ]
    }
   ],
   "source": [
    "filepath=\"./files/sample.txt\"\n",
    "with open(filepath,'r') as f:\n",
    "    print(f)"
   ]
  },
  {
   "cell_type": "code",
   "execution_count": 6,
   "metadata": {},
   "outputs": [
    {
     "name": "stdout",
     "output_type": "stream",
     "text": [
      "this is my first line\n",
      "this is my first line\n",
      "\n",
      "[]\n",
      "\n"
     ]
    }
   ],
   "source": [
    "filepath=\"./files/sample.txt\"\n",
    "with open(filepath,'r') as f:\n",
    "    lines=f.read()\n",
    "    print(lines)\n",
    "    line=f.readline()\n",
    "    print(line)\n",
    "    r=f.readlines()\n",
    "    print(r)\n",
    "    lines=f.read()\n",
    "    print(lines)"
   ]
  },
  {
   "cell_type": "code",
   "execution_count": 7,
   "metadata": {},
   "outputs": [
    {
     "name": "stdout",
     "output_type": "stream",
     "text": [
      "this is my first line\n",
      "this is my first line\n",
      "\n"
     ]
    }
   ],
   "source": [
    "filepath=\"./files/sample.txt\"\n",
    "f=open(filepath,'r')\n",
    "lines=f.read()\n",
    "print(lines)\n",
    "line=f.readlines()\n",
    "print()"
   ]
  },
  {
   "cell_type": "code",
   "execution_count": null,
   "metadata": {},
   "outputs": [],
   "source": []
  }
 ],
 "metadata": {
  "kernelspec": {
   "display_name": "Python 3",
   "language": "python",
   "name": "python3"
  },
  "language_info": {
   "codemirror_mode": {
    "name": "ipython",
    "version": 3
   },
   "file_extension": ".py",
   "mimetype": "text/x-python",
   "name": "python",
   "nbconvert_exporter": "python",
   "pygments_lexer": "ipython3",
   "version": "3.7.3"
  }
 },
 "nbformat": 4,
 "nbformat_minor": 2
}
