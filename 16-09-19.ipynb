{
 "cells": [
  {
   "cell_type": "code",
   "execution_count": 1,
   "metadata": {},
   "outputs": [
    {
     "data": {
      "text/plain": [
       "100"
      ]
     },
     "execution_count": 1,
     "metadata": {},
     "output_type": "execute_result"
    }
   ],
   "source": [
    "d={\"a\":35,\"b\":50,\"c\":70,\"e\":90,\"f\":100}\n",
    "m=max(d.values())\n",
    "m"
   ]
  },
  {
   "cell_type": "code",
   "execution_count": 6,
   "metadata": {},
   "outputs": [
    {
     "name": "stdout",
     "output_type": "stream",
     "text": [
      "('a', 35)\n",
      "('b', 50)\n",
      "('c', 70)\n",
      "('e', 90)\n",
      "('f', 100)\n"
     ]
    }
   ],
   "source": [
    "d={\"a\":35,\"b\":50,\"c\":70,\"e\":90,\"f\":100}\n",
    "for i in d.items():\n",
    "    print(i)"
   ]
  },
  {
   "cell_type": "code",
   "execution_count": 7,
   "metadata": {},
   "outputs": [
    {
     "name": "stdout",
     "output_type": "stream",
     "text": [
      "a 35\n",
      "b 50\n",
      "c 70\n",
      "e 90\n",
      "f 100\n"
     ]
    }
   ],
   "source": [
    "d={\"a\":35,\"b\":50,\"c\":70,\"e\":90,\"f\":100}\n",
    "for (x,y) in d.items():\n",
    "    print(x,y)"
   ]
  },
  {
   "cell_type": "code",
   "execution_count": null,
   "metadata": {},
   "outputs": [],
   "source": [
    "d={\"a\":35,\"b\":50,\"c\":70,\"e\":90,\"f\":100}\n",
    "i=1\n",
    "while i<4:\n",
    "    for j in d:\n",
    "        d.pop(d)\n",
    "    i=i+1    "
   ]
  },
  {
   "cell_type": "code",
   "execution_count": null,
   "metadata": {},
   "outputs": [],
   "source": [
    "d={\"a\":35,\"b\":50,\"c\":70,\"e\":90,\"f\":100}\n",
    "t=d.copy()\n",
    "j=1\n",
    "while j<=3:\n",
    "    m=max(t.values())\n",
    "for i in d:\n",
    "    if d[i]==m:\n",
    "        print(i,d[i],\"top\")\n",
    "        d.pop(i)\n",
    "    j=j+1"
   ]
  },
  {
   "cell_type": "code",
   "execution_count": null,
   "metadata": {},
   "outputs": [],
   "source": []
  }
 ],
 "metadata": {
  "kernelspec": {
   "display_name": "Python 3",
   "language": "python",
   "name": "python3"
  },
  "language_info": {
   "codemirror_mode": {
    "name": "ipython",
    "version": 3
   },
   "file_extension": ".py",
   "mimetype": "text/x-python",
   "name": "python",
   "nbconvert_exporter": "python",
   "pygments_lexer": "ipython3",
   "version": "3.7.3"
  }
 },
 "nbformat": 4,
 "nbformat_minor": 2
}
